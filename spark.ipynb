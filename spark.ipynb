{
 "cells": [
  {
   "cell_type": "code",
   "execution_count": 2,
   "metadata": {},
   "outputs": [],
   "source": [
    "from pyspark.sql import SparkSession\n",
    "from pyspark.sql.functions import col, count, countDistinct, sum, avg, row_number, to_date, lit, concat, expr\n",
    "from pyspark.sql.window import Window\n",
    "from pyspark.sql.types import TimestampType, IntegerType, DoubleType"
   ]
  },
  {
   "cell_type": "code",
   "execution_count": 3,
   "metadata": {},
   "outputs": [
    {
     "name": "stderr",
     "output_type": "stream",
     "text": [
      "25/03/20 16:55:07 WARN Utils: Your hostname, brempong-HP-EliteBook-840-G7-Notebook-PC resolves to a loopback address: 127.0.1.1; using 192.168.36.43 instead (on interface wlp0s20f3)\n",
      "25/03/20 16:55:07 WARN Utils: Set SPARK_LOCAL_IP if you need to bind to another address\n",
      "Setting default log level to \"WARN\".\n",
      "To adjust logging level use sc.setLogLevel(newLevel). For SparkR, use setLogLevel(newLevel).\n",
      "25/03/20 16:55:08 WARN NativeCodeLoader: Unable to load native-hadoop library for your platform... using builtin-java classes where applicable\n"
     ]
    }
   ],
   "source": [
    "spark = SparkSession.builder \\\n",
    "    .appName(\"Music Streaming KPI Calculation\") \\\n",
    "    .getOrCreate()"
   ]
  },
  {
   "cell_type": "code",
   "execution_count": 4,
   "metadata": {},
   "outputs": [
    {
     "name": "stderr",
     "output_type": "stream",
     "text": [
      "                                                                                \r"
     ]
    }
   ],
   "source": [
    "users = spark.read.csv(\"data/users/users.csv\", header=True, inferSchema=True)\n",
    "songs = spark.read.csv(\"data/songs/songs.csv\", header=True, inferSchema=True)\n",
    "streams1 = spark.read.csv(\"data/streams/streams1.csv\", header=True, inferSchema=True)\n",
    "streams2 = spark.read.csv(\"data/streams/streams2.csv\", header=True, inferSchema=True)\n",
    "streams3 = spark.read.csv(\"data/streams/streams3.csv\", header=True, inferSchema=True)"
   ]
  },
  {
   "cell_type": "code",
   "execution_count": 5,
   "metadata": {},
   "outputs": [],
   "source": [
    "streams = streams1.union(streams2).union(streams3)"
   ]
  },
  {
   "cell_type": "code",
   "execution_count": 6,
   "metadata": {},
   "outputs": [],
   "source": [
    "streaming_data = streams.join(users, streams.user_id == users.user_id, \"inner\") \\\n",
    "    .join(songs, streams.track_id == songs.track_id, \"inner\") "
   ]
  },
  {
   "cell_type": "code",
   "execution_count": 7,
   "metadata": {},
   "outputs": [
    {
     "name": "stderr",
     "output_type": "stream",
     "text": [
      "25/03/20 16:55:17 WARN SparkStringUtils: Truncated the string representation of a plan since it was too large. This behavior can be adjusted by setting 'spark.sql.debug.maxToStringFields'.\n"
     ]
    },
    {
     "name": "stdout",
     "output_type": "stream",
     "text": [
      "+-------+--------------------+-------------------+-------+------------------+--------+-------------+----------+-----+--------------------+--------------------+--------------------+--------------------+----------+-----------+--------+------------+------+---+--------+----+-----------+------------+----------------+--------+-------+-------+--------------+-----------+\n",
      "|user_id|            track_id|        listen_time|user_id|         user_name|user_age| user_country|created_at|   id|            track_id|             artists|          album_name|          track_name|popularity|duration_ms|explicit|danceability|energy|key|loudness|mode|speechiness|acousticness|instrumentalness|liveness|valence|  tempo|time_signature|track_genre|\n",
      "+-------+--------------------+-------------------+-------+------------------+--------+-------------+----------+-----+--------------------+--------------------+--------------------+--------------------+----------+-----------+--------+------------+------+---+--------+----+-----------+------------+----------------+--------+-------+-------+--------------+-----------+\n",
      "|  48211|6M0dUj7G1BBsFRUZV...|2024-06-25 19:03:49|  48211|    Melissa Holmes|      24|United States|2024-06-18| 1087|6M0dUj7G1BBsFRUZV...|       Hugh Masekela| Africa Rising Vol.3|              Makoti|         0|     274933|   False|       0.469| 0.824|  8| -10.785|   1|     0.0944|       0.478|           0.268|   0.076|  0.781|220.081|           4.0|   afrobeat|\n",
      "|   9715|6ijWDxNwRbDbxh4Qq...|2024-06-25 22:07:41|   9715|       Mark Jordan|      60|United States|2024-11-24| 1733|6ijWDxNwRbDbxh4Qq...|The Mauskovic Dan...|Down in the Basem...|            Tuto Bay|        18|     209805|   False|       0.716| 0.511|  6| -12.005|   0|     0.0792|     0.00678|           0.906|  0.0633|  0.929|133.028|           4.0|   afrobeat|\n",
      "|  43176|0txb2qyDV7sVBLv2K...|2024-06-25 18:49:32|  43176|    Gwendolyn Kerr|      69|United States|2024-06-18| 2132|0txb2qyDV7sVBLv2K...|Andrés Calamaro;J...|    Música para casa|             Bohemio|         0|     208004|   False|       0.784| 0.461|  4|  -9.546|   0|     0.0314|       0.662|          5.9E-5|   0.107|  0.733|102.165|           4.0|   alt-rock|\n",
      "|  34427|0txb2qyDV7sVBLv2K...|2024-06-25 19:44:52|  34427|  Heather Gonzales|      44|United States|2024-02-27| 2132|0txb2qyDV7sVBLv2K...|Andrés Calamaro;J...|    Música para casa|             Bohemio|         0|     208004|   False|       0.784| 0.461|  4|  -9.546|   0|     0.0314|       0.662|          5.9E-5|   0.107|  0.733|102.165|           4.0|   alt-rock|\n",
      "|  43300|2NXYLpZdCZ6qaqZla...|2024-06-25 21:43:44|  43300|      Joseph Evans|      52|United States|2024-12-16| 2932|2NXYLpZdCZ6qaqZla...|Luis Alberto Spin...|      Mondo Di Cromo|No Te Alejes Tant...|        45|     209893|   False|       0.783| 0.292|  2| -18.026|   1|     0.0404|       0.164|         0.00185|   0.153|  0.696|120.802|           4.0|   alt-rock|\n",
      "|   8678|3Cs4g3w33H9YEptmg...|2024-06-25 04:23:26|   8678|        Lance Long|      42|United States|2024-09-18| 4425|3Cs4g3w33H9YEptmg...|      Marika Hackman|        Deaf Heat EP|     I Follow Rivers|        54|     166762|   False|       0.275| 0.175|  7| -15.043|   1|     0.0373|       0.793|          0.0218|   0.111| 0.0382|  85.56|           3.0|    ambient|\n",
      "|  39015|2No1A7ZuMaBGxz45j...|2024-06-25 03:33:03|  39015|     David Alvarez|      67|United States|2024-08-18| 4520|2No1A7ZuMaBGxz45j...|     Lights & Motion|               Bloom|            Glaciers|        49|     176373|   False|      0.0789|  0.16|  7| -18.144|   1|     0.0362|       0.733|           0.786|  0.0943| 0.0409| 56.449|           4.0|    ambient|\n",
      "|  21238|4QunEuIrDNY59Wu61...|2024-06-25 06:41:54|  21238|       Jason Reyes|      56|United States|2024-09-22| 4644|4QunEuIrDNY59Wu61...|     Little Symphony|            Serenity|             Anvindr|        26|     175238|   False|       0.184| 0.109|  0| -24.131|   1|     0.0631|       0.786|           0.879|   0.117|  0.193| 131.54|           4.0|    ambient|\n",
      "|   1608|3qDYvLPzxGqZl960j...|2024-06-25 11:12:45|   1608|       Lori Dennis|      30|United States|2024-12-30| 5218|3qDYvLPzxGqZl960j...|    Centimillimental|        やさしい刃物|            キヅアト|        57|     245320|   False|       0.393| 0.935|  1|  -2.052|   0|     0.0823|      0.0198|             0.0|   0.354|   0.68|177.862|           4.0|      anime|\n",
      "|  47301|6IguK9VYQQSw7Xeom...|2024-06-25 10:01:26|  47301|      Angela Brown|      49|United States|2024-03-22| 5818|6IguK9VYQQSw7Xeom...|              Kijugo|Kyouran Hey Kids ...|Kyouran Hey Kids ...|        45|     102616|   False|       0.803|  0.58| 10| -13.157|   0|      0.108|       0.559|           0.888|  0.0709|   0.79|125.017|           4.0|      anime|\n",
      "|    400|2jRgjgIPMUbCvWBOV...|2024-06-25 07:48:20|    400|      Deborah Wong|      62|United States|2024-12-05| 6672|2jRgjgIPMUbCvWBOV...|     Mord'a'Stigmata|Dreams of Quiet P...|              Exiles|        17|     377457|   False|       0.188| 0.982|  4|  -5.187|   0|      0.114|    7.33e-05|           0.816|   0.592| 0.0392|131.964|           4.0|black-metal|\n",
      "|  36768|55Kb9jM9W9s9axYfa...|2024-06-25 14:45:24|  36768|    Anthony Ingram|      19|United States|2024-07-22| 8286|55Kb9jM9W9s9axYfa...| Derek & The Dominos|    On air 70's Hits|Layla - 40th Anni...|         1|     423840|   False|       0.403| 0.903|  1|   -3.88|   1|     0.0664|       0.574|           0.305|   0.287|  0.498|115.669|           4.0|      blues|\n",
      "|  24630|5u9yE5EPjKsuYItPZ...|2024-06-25 22:16:03|  24630|    Annette Martin|      63|United States|2024-12-14| 8346|5u9yE5EPjKsuYItPZ...|            The Band| 70s Christmas Party|Christmas Must Be...|         0|     218666|   False|       0.668| 0.665|  7|   -8.55|   1|     0.0267|      0.0519|         6.68E-5|   0.109|  0.766|128.619|           4.0|      blues|\n",
      "|   6690|1kPBT8S2wJFNAyBMn...|2024-06-25 17:48:39|   6690|      Brandon Dunn|      61|United States|2024-09-21| 8400|1kPBT8S2wJFNAyBMn...|          Etta James|           Tell Mama| I'd Rather Go Blind|        71|     156653|   False|       0.477| 0.433| 11|  -6.473|   0|     0.0247|       0.689|         1.95E-4|   0.151|  0.611|  82.52|           3.0|      blues|\n",
      "|   1438|5iM1Z3zrieLBRiIql...|2024-06-25 15:11:06|   1438|        Sara Lopez|      32|United States|2024-01-30| 8406|5iM1Z3zrieLBRiIql...|          SATV Music|         Big Hitters|         Finish Line|        51|     133674|   False|       0.548| 0.554|  3|  -5.602|   1|     0.0254|       0.326|          1.8E-4|   0.202|  0.462| 75.005|           4.0|      blues|\n",
      "|  25438|7nE91jTdniDuc9BS2...|2024-06-25 00:33:52|  25438| Danielle Reynolds|      62|United States|2024-11-30| 9834|7nE91jTdniDuc9BS2...|   Padre Zezinho scj|Um Certo Galileu,...|              Utopia|        44|     253400|   False|       0.647| 0.333|  5| -12.329|   1|     0.0345|       0.926|           0.306|   0.268|  0.699| 84.564|           4.0|     brazil|\n",
      "|  41371|6rp6jA6hgJ97RIzil...|2024-06-25 12:09:14|  41371|     Tom Potts DDS|      28|United States|2024-11-29|10183|6rp6jA6hgJ97RIzil...|         Freestylers|      Pressure Point|         Told You So|        17|     280800|   False|       0.779| 0.937|  2|  -5.314|   0|     0.0385|      0.0762|         2.17E-6|   0.776|   0.91|101.873|           4.0|  breakbeat|\n",
      "|   7450|6rp6jA6hgJ97RIzil...|2024-06-25 04:15:46|   7450|     Adrian Gibson|      34|United States|2024-04-05|10183|6rp6jA6hgJ97RIzil...|         Freestylers|      Pressure Point|         Told You So|        17|     280800|   False|       0.779| 0.937|  2|  -5.314|   0|     0.0385|      0.0762|         2.17E-6|   0.776|   0.91|101.873|           4.0|  breakbeat|\n",
      "|   7347|2Tax7fSPDly9OLIAZ...|2024-06-25 19:12:38|   7347|    Tracy Williams|      59|United States|2024-06-19|11772|2Tax7fSPDly9OLIAZ...|       Alexi Murdoch|     Towards The Sun|    Through The Dark|        43|     330066|   False|       0.566| 0.127|  7| -18.624|   1|     0.0439|       0.958|           0.916|   0.111|  0.189|123.211|           4.0|    british|\n",
      "|  29033|1406eGydAvhfLJr58...|2024-06-25 20:03:41|  29033|Christopher Obrien|      62|United States|2024-03-20|12759|1406eGydAvhfLJr58...|   my little airport|介乎法國與旺角的詩意|      藍白紅風格練習|        26|      58789|   False|       0.469| 0.435|  4|  -9.943|   0|     0.0544|       0.964|         0.00286|   0.118|  0.265| 69.551|           4.0|   cantopop|\n",
      "+-------+--------------------+-------------------+-------+------------------+--------+-------------+----------+-----+--------------------+--------------------+--------------------+--------------------+----------+-----------+--------+------------+------+---+--------+----+-----------+------------+----------------+--------+-------+-------+--------------+-----------+\n",
      "only showing top 20 rows\n",
      "\n"
     ]
    }
   ],
   "source": [
    "streaming_data.show()"
   ]
  },
  {
   "cell_type": "code",
   "execution_count": 8,
   "metadata": {},
   "outputs": [],
   "source": [
    "streaming_data = streaming_data.withColumn(\"processing_date\", to_date(col(\"created_at\")))"
   ]
  },
  {
   "cell_type": "code",
   "execution_count": 9,
   "metadata": {},
   "outputs": [],
   "source": [
    "streaming_data = streaming_data.withColumn(\"duration_seconds\", col(\"duration_ms\") / 1000)"
   ]
  },
  {
   "cell_type": "code",
   "execution_count": 10,
   "metadata": {},
   "outputs": [
    {
     "name": "stdout",
     "output_type": "stream",
     "text": [
      "root\n",
      " |-- user_id: integer (nullable = true)\n",
      " |-- user_name: string (nullable = true)\n",
      " |-- user_age: integer (nullable = true)\n",
      " |-- user_country: string (nullable = true)\n",
      " |-- created_at: date (nullable = true)\n",
      "\n"
     ]
    }
   ],
   "source": [
    "users.printSchema()"
   ]
  },
  {
   "cell_type": "code",
   "execution_count": 11,
   "metadata": {},
   "outputs": [
    {
     "name": "stdout",
     "output_type": "stream",
     "text": [
      "root\n",
      " |-- id: integer (nullable = true)\n",
      " |-- track_id: string (nullable = true)\n",
      " |-- artists: string (nullable = true)\n",
      " |-- album_name: string (nullable = true)\n",
      " |-- track_name: string (nullable = true)\n",
      " |-- popularity: string (nullable = true)\n",
      " |-- duration_ms: string (nullable = true)\n",
      " |-- explicit: string (nullable = true)\n",
      " |-- danceability: string (nullable = true)\n",
      " |-- energy: string (nullable = true)\n",
      " |-- key: string (nullable = true)\n",
      " |-- loudness: string (nullable = true)\n",
      " |-- mode: string (nullable = true)\n",
      " |-- speechiness: string (nullable = true)\n",
      " |-- acousticness: string (nullable = true)\n",
      " |-- instrumentalness: double (nullable = true)\n",
      " |-- liveness: string (nullable = true)\n",
      " |-- valence: string (nullable = true)\n",
      " |-- tempo: double (nullable = true)\n",
      " |-- time_signature: double (nullable = true)\n",
      " |-- track_genre: string (nullable = true)\n",
      "\n"
     ]
    }
   ],
   "source": [
    "songs.printSchema()"
   ]
  },
  {
   "cell_type": "code",
   "execution_count": 12,
   "metadata": {},
   "outputs": [
    {
     "name": "stdout",
     "output_type": "stream",
     "text": [
      "root\n",
      " |-- user_id: integer (nullable = true)\n",
      " |-- track_id: string (nullable = true)\n",
      " |-- listen_time: timestamp (nullable = true)\n",
      "\n"
     ]
    }
   ],
   "source": [
    "streams.printSchema()"
   ]
  },
  {
   "cell_type": "code",
   "execution_count": 15,
   "metadata": {},
   "outputs": [],
   "source": [
    "import pandas as pd\n",
    "df = pd.read_parquet(\"s3://music-streaming-data-dynamo/processed_data/streams1/listen_date=2024-06-25/part-00000-a284e2e6-27c2-4c61-942f-5b0c645858e3.c000.snappy.parquet\", engine='pyarrow')   "
   ]
  },
  {
   "cell_type": "code",
   "execution_count": 16,
   "metadata": {},
   "outputs": [
    {
     "data": {
      "text/html": [
       "<div>\n",
       "<style scoped>\n",
       "    .dataframe tbody tr th:only-of-type {\n",
       "        vertical-align: middle;\n",
       "    }\n",
       "\n",
       "    .dataframe tbody tr th {\n",
       "        vertical-align: top;\n",
       "    }\n",
       "\n",
       "    .dataframe thead th {\n",
       "        text-align: right;\n",
       "    }\n",
       "</style>\n",
       "<table border=\"1\" class=\"dataframe\">\n",
       "  <thead>\n",
       "    <tr style=\"text-align: right;\">\n",
       "      <th></th>\n",
       "      <th>track_id</th>\n",
       "      <th>user_id</th>\n",
       "      <th>listen_time</th>\n",
       "      <th>partition_0</th>\n",
       "      <th>user_name</th>\n",
       "      <th>user_age</th>\n",
       "      <th>user_country</th>\n",
       "      <th>created_at</th>\n",
       "      <th>id</th>\n",
       "      <th>artists</th>\n",
       "      <th>...</th>\n",
       "      <th>acousticness</th>\n",
       "      <th>instrumentalness</th>\n",
       "      <th>liveness</th>\n",
       "      <th>valence</th>\n",
       "      <th>tempo</th>\n",
       "      <th>time_signature</th>\n",
       "      <th>track_genre</th>\n",
       "      <th>processing_date</th>\n",
       "      <th>duration_seconds</th>\n",
       "      <th>listen_date</th>\n",
       "    </tr>\n",
       "  </thead>\n",
       "  <tbody>\n",
       "    <tr>\n",
       "      <th>0</th>\n",
       "      <td>4vAnqYqm1DOo5IDVcxORX3</td>\n",
       "      <td>25675</td>\n",
       "      <td>2024-06-25 00:02:08</td>\n",
       "      <td>streams1</td>\n",
       "      <td>Megan Perez</td>\n",
       "      <td>33</td>\n",
       "      <td>United States</td>\n",
       "      <td>2024-07-22</td>\n",
       "      <td>206</td>\n",
       "      <td>Canyon City</td>\n",
       "      <td>...</td>\n",
       "      <td>0.878</td>\n",
       "      <td>0.000473</td>\n",
       "      <td>0.1120</td>\n",
       "      <td>0.224</td>\n",
       "      <td>136.110</td>\n",
       "      <td>4</td>\n",
       "      <td>acoustic</td>\n",
       "      <td>2025-03-20</td>\n",
       "      <td>144.830</td>\n",
       "      <td>2024-06-25</td>\n",
       "    </tr>\n",
       "    <tr>\n",
       "      <th>1</th>\n",
       "      <td>5himtcBG5IetEOAYuB1Lu1</td>\n",
       "      <td>35526</td>\n",
       "      <td>2024-06-25 19:33:07</td>\n",
       "      <td>streams1</td>\n",
       "      <td>Kelly Burns</td>\n",
       "      <td>38</td>\n",
       "      <td>United States</td>\n",
       "      <td>2024-01-17</td>\n",
       "      <td>703</td>\n",
       "      <td>SafetySuit</td>\n",
       "      <td>...</td>\n",
       "      <td>0.872</td>\n",
       "      <td>0.0</td>\n",
       "      <td>0.0918</td>\n",
       "      <td>0.510</td>\n",
       "      <td>133.870</td>\n",
       "      <td>4</td>\n",
       "      <td>acoustic</td>\n",
       "      <td>2025-03-20</td>\n",
       "      <td>175.200</td>\n",
       "      <td>2024-06-25</td>\n",
       "    </tr>\n",
       "    <tr>\n",
       "      <th>2</th>\n",
       "      <td>3tBS9yN7auzP4PeAEzfGEg</td>\n",
       "      <td>14461</td>\n",
       "      <td>2024-06-25 02:18:04</td>\n",
       "      <td>streams1</td>\n",
       "      <td>Michael Allen</td>\n",
       "      <td>20</td>\n",
       "      <td>United States</td>\n",
       "      <td>2024-03-17</td>\n",
       "      <td>727</td>\n",
       "      <td>Takehara Pistol</td>\n",
       "      <td>...</td>\n",
       "      <td>0.0299</td>\n",
       "      <td>0.0</td>\n",
       "      <td>0.2300</td>\n",
       "      <td>0.617</td>\n",
       "      <td>88.002</td>\n",
       "      <td>4</td>\n",
       "      <td>acoustic</td>\n",
       "      <td>2025-03-20</td>\n",
       "      <td>182.306</td>\n",
       "      <td>2024-06-25</td>\n",
       "    </tr>\n",
       "    <tr>\n",
       "      <th>3</th>\n",
       "      <td>5K0z3idLxEFY0tv82NeMPe</td>\n",
       "      <td>41366</td>\n",
       "      <td>2024-06-25 03:44:34</td>\n",
       "      <td>streams1</td>\n",
       "      <td>Elizabeth Chen</td>\n",
       "      <td>36</td>\n",
       "      <td>United States</td>\n",
       "      <td>2024-03-30</td>\n",
       "      <td>1080</td>\n",
       "      <td>Criolo</td>\n",
       "      <td>...</td>\n",
       "      <td>0.525</td>\n",
       "      <td>8.57e-06</td>\n",
       "      <td>0.7110</td>\n",
       "      <td>0.681</td>\n",
       "      <td>94.006</td>\n",
       "      <td>4</td>\n",
       "      <td>afrobeat</td>\n",
       "      <td>2025-03-20</td>\n",
       "      <td>267.480</td>\n",
       "      <td>2024-06-25</td>\n",
       "    </tr>\n",
       "    <tr>\n",
       "      <th>4</th>\n",
       "      <td>4dKAXHyIN8xkLTl5OIL9FN</td>\n",
       "      <td>49723</td>\n",
       "      <td>2024-06-25 01:36:49</td>\n",
       "      <td>streams1</td>\n",
       "      <td>Jonathan Williams</td>\n",
       "      <td>52</td>\n",
       "      <td>United States</td>\n",
       "      <td>2024-12-18</td>\n",
       "      <td>1893</td>\n",
       "      <td>Mulatu Astatke</td>\n",
       "      <td>...</td>\n",
       "      <td>0.871</td>\n",
       "      <td>0.878</td>\n",
       "      <td>0.0596</td>\n",
       "      <td>0.741</td>\n",
       "      <td>86.564</td>\n",
       "      <td>4</td>\n",
       "      <td>afrobeat</td>\n",
       "      <td>2025-03-20</td>\n",
       "      <td>333.400</td>\n",
       "      <td>2024-06-25</td>\n",
       "    </tr>\n",
       "  </tbody>\n",
       "</table>\n",
       "<p>5 rows × 31 columns</p>\n",
       "</div>"
      ],
      "text/plain": [
       "                 track_id  user_id         listen_time partition_0  \\\n",
       "0  4vAnqYqm1DOo5IDVcxORX3    25675 2024-06-25 00:02:08    streams1   \n",
       "1  5himtcBG5IetEOAYuB1Lu1    35526 2024-06-25 19:33:07    streams1   \n",
       "2  3tBS9yN7auzP4PeAEzfGEg    14461 2024-06-25 02:18:04    streams1   \n",
       "3  5K0z3idLxEFY0tv82NeMPe    41366 2024-06-25 03:44:34    streams1   \n",
       "4  4dKAXHyIN8xkLTl5OIL9FN    49723 2024-06-25 01:36:49    streams1   \n",
       "\n",
       "           user_name  user_age   user_country  created_at    id  \\\n",
       "0        Megan Perez        33  United States  2024-07-22   206   \n",
       "1        Kelly Burns        38  United States  2024-01-17   703   \n",
       "2      Michael Allen        20  United States  2024-03-17   727   \n",
       "3     Elizabeth Chen        36  United States  2024-03-30  1080   \n",
       "4  Jonathan Williams        52  United States  2024-12-18  1893   \n",
       "\n",
       "           artists  ... acousticness instrumentalness  liveness  valence  \\\n",
       "0      Canyon City  ...        0.878         0.000473    0.1120    0.224   \n",
       "1       SafetySuit  ...        0.872              0.0    0.0918    0.510   \n",
       "2  Takehara Pistol  ...       0.0299              0.0    0.2300    0.617   \n",
       "3           Criolo  ...        0.525         8.57e-06    0.7110    0.681   \n",
       "4   Mulatu Astatke  ...        0.871            0.878    0.0596    0.741   \n",
       "\n",
       "     tempo  time_signature  track_genre  processing_date  duration_seconds  \\\n",
       "0  136.110               4     acoustic       2025-03-20           144.830   \n",
       "1  133.870               4     acoustic       2025-03-20           175.200   \n",
       "2   88.002               4     acoustic       2025-03-20           182.306   \n",
       "3   94.006               4     afrobeat       2025-03-20           267.480   \n",
       "4   86.564               4     afrobeat       2025-03-20           333.400   \n",
       "\n",
       "   listen_date  \n",
       "0   2024-06-25  \n",
       "1   2024-06-25  \n",
       "2   2024-06-25  \n",
       "3   2024-06-25  \n",
       "4   2024-06-25  \n",
       "\n",
       "[5 rows x 31 columns]"
      ]
     },
     "execution_count": 16,
     "metadata": {},
     "output_type": "execute_result"
    }
   ],
   "source": [
    "df.head()"
   ]
  },
  {
   "cell_type": "code",
   "execution_count": 18,
   "metadata": {},
   "outputs": [
    {
     "data": {
      "text/plain": [
       "Index(['track_id', 'user_id', 'listen_time', 'partition_0', 'user_name',\n",
       "       'user_age', 'user_country', 'created_at', 'id', 'artists', 'album_name',\n",
       "       'track_name', 'popularity', 'duration_ms', 'explicit', 'danceability',\n",
       "       'energy', 'key', 'loudness', 'mode', 'speechiness', 'acousticness',\n",
       "       'instrumentalness', 'liveness', 'valence', 'tempo', 'time_signature',\n",
       "       'track_genre', 'processing_date', 'duration_seconds', 'listen_date'],\n",
       "      dtype='object')"
      ]
     },
     "execution_count": 18,
     "metadata": {},
     "output_type": "execute_result"
    }
   ],
   "source": [
    "df.columns"
   ]
  },
  {
   "cell_type": "code",
   "execution_count": null,
   "metadata": {},
   "outputs": [],
   "source": []
  }
 ],
 "metadata": {
  "kernelspec": {
   "display_name": "venv",
   "language": "python",
   "name": "python3"
  },
  "language_info": {
   "codemirror_mode": {
    "name": "ipython",
    "version": 3
   },
   "file_extension": ".py",
   "mimetype": "text/x-python",
   "name": "python",
   "nbconvert_exporter": "python",
   "pygments_lexer": "ipython3",
   "version": "3.10.12"
  }
 },
 "nbformat": 4,
 "nbformat_minor": 2
}
